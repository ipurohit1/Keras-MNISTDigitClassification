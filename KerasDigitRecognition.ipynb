{
  "nbformat": 4,
  "nbformat_minor": 0,
  "metadata": {
    "colab": {
      "name": "KerasDigitRecognition.ipynb",
      "provenance": [],
      "collapsed_sections": [],
      "authorship_tag": "ABX9TyOcWo3BEgseKLhH3tfx8qHo",
      "include_colab_link": true
    },
    "kernelspec": {
      "name": "python3",
      "display_name": "Python 3"
    }
  },
  "cells": [
    {
      "cell_type": "markdown",
      "metadata": {
        "id": "view-in-github",
        "colab_type": "text"
      },
      "source": [
        "<a href=\"https://colab.research.google.com/github/ipurohit1/Keras-MNISTDigitClassification/blob/main/KerasDigitRecognition.ipynb\" target=\"_parent\"><img src=\"https://colab.research.google.com/assets/colab-badge.svg\" alt=\"Open In Colab\"/></a>"
      ]
    },
    {
      "cell_type": "code",
      "metadata": {
        "id": "DddDnl822E1V"
      },
      "source": [
        "import tensorflow as tf \n",
        "import numpy as np "
      ],
      "execution_count": 1,
      "outputs": []
    },
    {
      "cell_type": "code",
      "metadata": {
        "id": "QoMxzzJ52MGQ"
      },
      "source": [
        "mnist_data = tf.keras.datasets.mnist"
      ],
      "execution_count": 2,
      "outputs": []
    },
    {
      "cell_type": "code",
      "metadata": {
        "colab": {
          "base_uri": "https://localhost:8080/"
        },
        "id": "rAYCpC4M2TjO",
        "outputId": "920224dd-572b-4034-ec4a-97cb665e822f"
      },
      "source": [
        "(training_data, training_labels), (test_data, test_labels) = mnist_data.load_data()\n",
        "training_data, test_data = training_data/255, test_data/255 # divide values by 255 to scale them down to a range of [0, 1]"
      ],
      "execution_count": 3,
      "outputs": [
        {
          "output_type": "stream",
          "text": [
            "Downloading data from https://storage.googleapis.com/tensorflow/tf-keras-datasets/mnist.npz\n",
            "11493376/11490434 [==============================] - 0s 0us/step\n"
          ],
          "name": "stdout"
        }
      ]
    },
    {
      "cell_type": "code",
      "metadata": {
        "id": "iluzd3Q3dbmX"
      },
      "source": [
        "print(training_data[0])"
      ],
      "execution_count": null,
      "outputs": []
    },
    {
      "cell_type": "code",
      "metadata": {
        "id": "yaHoitGZ2e9C"
      },
      "source": [
        "model = tf.keras.Sequential([tf.keras.layers.Flatten(input_shape = (28, 28)), # flatted 28x28 dimension images to 784 values \n",
        "                             tf.keras.layers.Dense(128, activation = tf.nn.relu),\n",
        "                             tf.keras.layers.Dense(10, activation = tf.nn.softmax)])\n",
        "\n",
        "model.compile(optimizer= 'adam', loss = 'sparse_categorical_crossentropy', metrics = ['accuracy'])"
      ],
      "execution_count": 4,
      "outputs": []
    },
    {
      "cell_type": "code",
      "metadata": {
        "id": "W_P5BMq93Pu-"
      },
      "source": [
        "model.fit(training_data, training_labels, epochs = 5)\n",
        "\n",
        "\n",
        "# prediction = np.round(model.predict(training_data))\n",
        "# wrong_predictions = training_data[prediction !  ]"
      ],
      "execution_count": null,
      "outputs": []
    },
    {
      "cell_type": "code",
      "metadata": {
        "id": "17foenchfJym"
      },
      "source": [
        "predictions = model.predict(training_data)\n"
      ],
      "execution_count": 14,
      "outputs": []
    },
    {
      "cell_type": "code",
      "metadata": {
        "colab": {
          "base_uri": "https://localhost:8080/"
        },
        "id": "NLVQZooTfTEY",
        "outputId": "9db4855b-a522-4a0a-9fb8-0ee82d0ac43a"
      },
      "source": [
        "print(type(predictions))\n",
        "print(training_labels[0])\n",
        "print(predictions[0])"
      ],
      "execution_count": 18,
      "outputs": [
        {
          "output_type": "stream",
          "text": [
            "<class 'numpy.ndarray'>\n",
            "5\n",
            "[0.         0.00000001 0.         0.00187106 0.         0.99812895\n",
            " 0.         0.         0.         0.        ]\n"
          ],
          "name": "stdout"
        }
      ]
    },
    {
      "cell_type": "code",
      "metadata": {
        "colab": {
          "base_uri": "https://localhost:8080/"
        },
        "id": "gADY_N8DVskD",
        "outputId": "9a1c2bb2-73a7-404e-ba92-d523c716d1c9"
      },
      "source": [
        "model.evaluate(test_data, test_labels)"
      ],
      "execution_count": 6,
      "outputs": [
        {
          "output_type": "stream",
          "text": [
            "313/313 [==============================] - 0s 1ms/step - loss: 0.0748 - accuracy: 0.9759\n"
          ],
          "name": "stdout"
        },
        {
          "output_type": "execute_result",
          "data": {
            "text/plain": [
              "[0.07478190213441849, 0.9758999943733215]"
            ]
          },
          "metadata": {
            "tags": []
          },
          "execution_count": 6
        }
      ]
    },
    {
      "cell_type": "code",
      "metadata": {
        "colab": {
          "base_uri": "https://localhost:8080/"
        },
        "id": "gE01liQvV7P4",
        "outputId": "d4bcc10b-926f-4d82-9c26-f6fac0f1273d"
      },
      "source": [
        "predictions = model.predict(test_data)\n",
        "np.set_printoptions(suppress=True)\n",
        "# print(test_labels[0])\n",
        "# print(predictions[0])\n"
      ],
      "execution_count": 9,
      "outputs": [
        {
          "output_type": "stream",
          "text": [
            "10000\n"
          ],
          "name": "stdout"
        }
      ]
    },
    {
      "cell_type": "code",
      "metadata": {
        "id": "TrqxuuGNfs_3"
      },
      "source": [
        "# code block to view which testing examples the model predicted incorrectly \n",
        "for i in range(0, len(predictions)): \n",
        "  item = predictions[i]\n",
        "  max_value = np.amax(item)\n",
        "  prediction_from_model = np.where(item = max_value) + 1 # finds the index of max value and adds 1 to get the prediction (0 -> 1)\n",
        "  if prediction_from_model != test_labels[i]: \n",
        "    # TODO: Use matplotlib to display incorrect testing examples \n"
      ],
      "execution_count": null,
      "outputs": []
    }
  ]
}